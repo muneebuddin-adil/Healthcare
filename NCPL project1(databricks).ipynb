{
 "cells": [
  {
   "cell_type": "code",
   "execution_count": 0,
   "metadata": {
    "application/vnd.databricks.v1+cell": {
     "cellMetadata": {
      "byteLimit": 2048000,
      "rowLimit": 10000
     },
     "inputWidgets": {},
     "nuid": "bc5b4f3d-9571-42e1-9cda-22f42a7efaa0",
     "showTitle": false,
     "title": ""
    }
   },
   "outputs": [],
   "source": [
    "spark.conf.set(\"fs.azure.account.key.storage1998de.dfs.core.windows.net\", \"C64g9Q7x9IFzTjhaK/ffnmou2xW7nDCjOL17jI/EyXaL/r1N0WVOKiLyMKCLYT3WlHmpLpp82plY+AStmRCOKg==\")"
   ]
  },
  {
   "cell_type": "code",
   "execution_count": 0,
   "metadata": {
    "application/vnd.databricks.v1+cell": {
     "cellMetadata": {
      "byteLimit": 2048000,
      "rowLimit": 10000
     },
     "inputWidgets": {},
     "nuid": "4420e0cf-5ff9-4c77-bbd6-a68592b16be3",
     "showTitle": false,
     "title": ""
    }
   },
   "outputs": [
    {
     "output_type": "execute_result",
     "data": {
      "text/plain": [
       "[FileInfo(path='abfss://raw@storage1998de.dfs.core.windows.net/muneebuddin-adil/', name='muneebuddin-adil/', size=0, modificationTime=1727234318000)]"
      ]
     },
     "execution_count": 16,
     "metadata": {},
     "output_type": "execute_result"
    }
   ],
   "source": [
    "dbutils.fs.ls(\"abfss://raw@storage1998de.dfs.core.windows.net/\")"
   ]
  },
  {
   "cell_type": "code",
   "execution_count": 0,
   "metadata": {
    "application/vnd.databricks.v1+cell": {
     "cellMetadata": {
      "byteLimit": 2048000,
      "rowLimit": 10000
     },
     "inputWidgets": {},
     "nuid": "5e577e37-6db0-49b2-b9f6-204965446895",
     "showTitle": false,
     "title": ""
    }
   },
   "outputs": [
    {
     "output_type": "stream",
     "name": "stdout",
     "output_type": "stream",
     "text": [
      "+-------------------+---+------+----------+-----------------+-----------------+----------------+--------------------+------------------+------------------+-----------+--------------+--------------+-----------+------------+\n|               Name|Age|Gender|Blood Type|Medical Condition|Date of Admission|          Doctor|            Hospital|Insurance Provider|    Billing Amount|Room Number|Admission Type|Discharge Date| Medication|Test Results|\n+-------------------+---+------+----------+-----------------+-----------------+----------------+--------------------+------------------+------------------+-----------+--------------+--------------+-----------+------------+\n|      Bobby JacksOn| 30|  Male|        B-|           Cancer|       2024-01-31|   Matthew Smith|     Sons and Miller|        Blue Cross|18856.281305978155|        328|        Urgent|    2024-02-02|Paracetamol|      Normal|\n|       LesLie TErRy| 62|  Male|        A+|          Obesity|       2019-08-20| Samantha Davies|             Kim Inc|          Medicare|33643.327286577885|        265|     Emergency|    2019-08-26|  Ibuprofen|Inconclusive|\n|        DaNnY sMitH| 76|Female|        A-|          Obesity|       2022-09-22|Tiffany Mitchell|            Cook PLC|             Aetna|27955.096078842456|        205|     Emergency|    2022-10-07|    Aspirin|      Normal|\n|       andrEw waTtS| 28|Female|        O+|         Diabetes|       2020-11-18|     Kevin Wells|Hernandez Rogers ...|          Medicare| 37909.78240987528|        450|      Elective|    2020-12-18|  Ibuprofen|    Abnormal|\n|      adrIENNE bEll| 43|Female|       AB+|           Cancer|       2022-09-19|  Kathleen Hanna|         White-White|             Aetna|14238.317813937623|        458|        Urgent|    2022-10-09| Penicillin|    Abnormal|\n|      EMILY JOHNSOn| 36|  Male|        A+|           Asthma|       2023-12-20|   Taylor Newton|      Nunez-Humphrey|  UnitedHealthcare| 48145.11095104189|        389|        Urgent|    2023-12-24|  Ibuprofen|      Normal|\n|     edwArD EDWaRDs| 21|Female|       AB-|         Diabetes|       2020-11-03|     Kelly Olson|     Group Middleton|          Medicare| 19580.87234486093|        389|     Emergency|    2020-11-15|Paracetamol|Inconclusive|\n| CHrisTInA MARtinez| 20|Female|        A+|           Cancer|       2021-12-28|  Suzanne Thomas|Powell Robinson a...|             Cigna| 45820.46272159459|        277|     Emergency|    2022-01-07|Paracetamol|Inconclusive|\n|    JASmINe aGuIlaR| 82|  Male|       AB+|           Asthma|       2020-07-01| Daniel Ferguson|       Sons Rich and|             Cigna|50119.222791548505|        316|      Elective|    2020-07-14|    Aspirin|    Abnormal|\n|   ChRISTopher BerG| 58|Female|       AB-|           Cancer|       2021-05-23|     Heather Day|      Padilla-Walker|  UnitedHealthcare| 19784.63106221073|        249|      Elective|    2021-06-22|Paracetamol|Inconclusive|\n|   mIchElLe daniELs| 72|  Male|        O+|           Cancer|       2020-04-19|     John Duncan|     Schaefer-Porter|          Medicare|12576.795609050234|        394|        Urgent|    2020-04-22|Paracetamol|      Normal|\n|     aaRon MARtiNeZ| 38|Female|        A-|     Hypertension|       2023-08-13|    Douglas Mayo|         Lyons-Blair|          Medicare| 7999.586879604188|        288|        Urgent|    2023-09-05|    Lipitor|Inconclusive|\n|      connOR HANsEn| 75|Female|        A+|         Diabetes|       2019-12-12|Kenneth Fletcher|Powers Miller, an...|             Cigna| 43282.28335770435|        134|     Emergency|    2019-12-28| Penicillin|    Abnormal|\n|       rObeRt bAuer| 68|Female|       AB+|           Asthma|       2020-05-22| Theresa Freeman|    Rivera-Gutierrez|  UnitedHealthcare|33207.706633729606|        309|        Urgent|    2020-06-19|    Lipitor|      Normal|\n|       bROOkE brady| 44|Female|       AB+|           Cancer|       2021-10-08| Roberta Stewart|     Morris-Arellano|  UnitedHealthcare|40701.599227308754|        182|        Urgent|    2021-10-13|Paracetamol|      Normal|\n| MS. nAtalIE gAMble| 46|Female|       AB-|          Obesity|       2023-01-01| Maria Dougherty|      Cline-Williams|        Blue Cross|12263.357425021362|        465|      Elective|    2023-01-11|    Aspirin|Inconclusive|\n|      haley perkins| 63|Female|        A+|        Arthritis|       2020-06-23|   Erica Spencer|     Cervantes-Wells|  UnitedHealthcare|24499.847903736576|        114|      Elective|    2020-07-14|Paracetamol|      Normal|\n|mRS. jamiE cAMPBELl| 38|  Male|       AB-|          Obesity|       2020-03-08|      Justin Kim|Torres, and Harri...|             Cigna|17440.465444124675|        449|        Urgent|    2020-04-02|Paracetamol|    Abnormal|\n|       LuKE BuRgEss| 34|Female|        A-|     Hypertension|       2021-03-04|Justin Moore Jr.|         Houston PLC|        Blue Cross| 18843.02301783416|        260|      Elective|    2021-03-14|    Aspirin|    Abnormal|\n|     dANIEL schmIdt| 63|  Male|        B+|           Asthma|       2022-11-15| Denise Galloway|         Hammond Ltd|             Cigna|23762.203579059587|        465|      Elective|    2022-11-22| Penicillin|      Normal|\n+-------------------+---+------+----------+-----------------+-----------------+----------------+--------------------+------------------+------------------+-----------+--------------+--------------+-----------+------------+\nonly showing top 20 rows\n\n"
     ]
    }
   ],
   "source": [
    "from pyspark.sql import SparkSession\n",
    "from datetime import datetime\n",
    "\n",
    "spark = SparkSession.builder.appName(\"ReadData\").getOrCreate()\n",
    "storage_account_name = \"storage1998de\"\n",
    "src_container = \"raw\"\n",
    "file_path = \"muneebuddin-adil/Healthcare/refs/heads/main/healthcare_dataset.csv\"\n",
    "target_container = \"cleaned\"\n",
    "\n",
    "adls_url = f\"abfss://{src_container}@{storage_account_name}.dfs.core.windows.net/{file_path}\"\n",
    "\n",
    "df = spark.read.csv(adls_url, sep=',', header=True,inferSchema=True)\n",
    "\n",
    "df.show()\n",
    "\n",
    "df.createOrReplaceTempView(\"healthdataset\")"
   ]
  },
  {
   "cell_type": "code",
   "execution_count": 0,
   "metadata": {
    "application/vnd.databricks.v1+cell": {
     "cellMetadata": {
      "byteLimit": 2048000,
      "rowLimit": 10000
     },
     "inputWidgets": {},
     "nuid": "369805b9-47c4-4a11-ae18-8abfa8275536",
     "showTitle": false,
     "title": ""
    }
   },
   "outputs": [],
   "source": [
    "df = df.withColumnRenamed(\"Medical Cc\", \"Medical_Condition\")\\\n",
    "       .withColumnRenamed(\"Billing Amount\", \"Billing_Amount\")\\\n",
    "       .withColumnRenamed(\"Room Number\", \"Room_Number\")\\\n",
    "       .withColumnRenamed(\"Admission Type\", \"Admission_Type\")\\\n",
    "       .withColumnRenamed(\"Discharge Date\", \"Discharge_Date\")\\\n",
    "       .withColumnRenamed(\"Test Results\", \"Test_Results\")"
   ]
  },
  {
   "cell_type": "code",
   "execution_count": 0,
   "metadata": {
    "application/vnd.databricks.v1+cell": {
     "cellMetadata": {
      "byteLimit": 2048000,
      "rowLimit": 10000
     },
     "inputWidgets": {},
     "nuid": "906a0570-f150-440e-98cd-4155ce555c25",
     "showTitle": false,
     "title": ""
    }
   },
   "outputs": [
    {
     "output_type": "stream",
     "name": "stdout",
     "output_type": "stream",
     "text": [
      "There are duplicates in the DataFrame.\n"
     ]
    }
   ],
   "source": [
    "\n",
    "# Drop duplicates based on all columns\n",
    "df_no_duplicates = df.dropDuplicates()\n",
    "\n",
    "# Count the number of records in the original and the new DataFrame\n",
    "if df.count() != df_no_duplicates.count():\n",
    "    print(\"There are duplicates in the DataFrame.\")\n",
    "else:\n",
    "    print(\"No duplicates found.\")"
   ]
  },
  {
   "cell_type": "code",
   "execution_count": 0,
   "metadata": {
    "application/vnd.databricks.v1+cell": {
     "cellMetadata": {
      "byteLimit": 2048000,
      "rowLimit": 10000
     },
     "inputWidgets": {},
     "nuid": "1393638c-5cb2-4b30-bfa0-badce44c343b",
     "showTitle": false,
     "title": ""
    }
   },
   "outputs": [
    {
     "output_type": "stream",
     "name": "stdout",
     "output_type": "stream",
     "text": [
      "The number of Null values are :  0\n"
     ]
    }
   ],
   "source": [
    "for a in df.columns:\n",
    "    if df.filter(df[a].isNull()):\n",
    "        null_count = df.filter(df[a].isNull()).count()    \n",
    "print('The number of Null values are : ',null_count)"
   ]
  },
  {
   "cell_type": "code",
   "execution_count": 0,
   "metadata": {
    "application/vnd.databricks.v1+cell": {
     "cellMetadata": {
      "byteLimit": 2048000,
      "rowLimit": 10000
     },
     "inputWidgets": {},
     "nuid": "2649c52f-e654-4dc0-9563-5b3da666d809",
     "showTitle": false,
     "title": ""
    }
   },
   "outputs": [],
   "source": [
    "df.write.mode('overwrite').csv(f\"abfss://{target_container}@storage1998de.dfs.core.windows.net/cleaned\",header=True)"
   ]
  },
  {
   "cell_type": "code",
   "execution_count": 0,
   "metadata": {
    "application/vnd.databricks.v1+cell": {
     "cellMetadata": {
      "byteLimit": 2048000,
      "rowLimit": 10000
     },
     "inputWidgets": {},
     "nuid": "e8fe78df-75fa-4574-95b6-a53af07e1546",
     "showTitle": false,
     "title": ""
    }
   },
   "outputs": [
    {
     "output_type": "stream",
     "name": "stdout",
     "output_type": "stream",
     "text": [
      "+-------------------+---+------+----------+-----------------+-----------------+----------------+--------------------+------------------+------------------+-----------+--------------+--------------+-----------+------------+\n|               Name|Age|Gender|Blood Type|Medical Condition|Date of Admission|          Doctor|            Hospital|Insurance Provider|    Billing_Amount|Room_Number|Admission_Type|Discharge_Date| Medication|Test_Results|\n+-------------------+---+------+----------+-----------------+-----------------+----------------+--------------------+------------------+------------------+-----------+--------------+--------------+-----------+------------+\n|      Bobby JacksOn| 30|  Male|        B-|           Cancer|       2024-01-31|   Matthew Smith|     Sons and Miller|        Blue Cross|18856.281305978155|        328|        Urgent|    2024-02-02|Paracetamol|      Normal|\n|       LesLie TErRy| 62|  Male|        A+|          Obesity|       2019-08-20| Samantha Davies|             Kim Inc|          Medicare|33643.327286577885|        265|     Emergency|    2019-08-26|  Ibuprofen|Inconclusive|\n|        DaNnY sMitH| 76|Female|        A-|          Obesity|       2022-09-22|Tiffany Mitchell|            Cook PLC|             Aetna|27955.096078842456|        205|     Emergency|    2022-10-07|    Aspirin|      Normal|\n|       andrEw waTtS| 28|Female|        O+|         Diabetes|       2020-11-18|     Kevin Wells|Hernandez Rogers ...|          Medicare| 37909.78240987528|        450|      Elective|    2020-12-18|  Ibuprofen|    Abnormal|\n|      adrIENNE bEll| 43|Female|       AB+|           Cancer|       2022-09-19|  Kathleen Hanna|         White-White|             Aetna|14238.317813937623|        458|        Urgent|    2022-10-09| Penicillin|    Abnormal|\n|      EMILY JOHNSOn| 36|  Male|        A+|           Asthma|       2023-12-20|   Taylor Newton|      Nunez-Humphrey|  UnitedHealthcare| 48145.11095104189|        389|        Urgent|    2023-12-24|  Ibuprofen|      Normal|\n|     edwArD EDWaRDs| 21|Female|       AB-|         Diabetes|       2020-11-03|     Kelly Olson|     Group Middleton|          Medicare| 19580.87234486093|        389|     Emergency|    2020-11-15|Paracetamol|Inconclusive|\n| CHrisTInA MARtinez| 20|Female|        A+|           Cancer|       2021-12-28|  Suzanne Thomas|Powell Robinson a...|             Cigna| 45820.46272159459|        277|     Emergency|    2022-01-07|Paracetamol|Inconclusive|\n|    JASmINe aGuIlaR| 82|  Male|       AB+|           Asthma|       2020-07-01| Daniel Ferguson|       Sons Rich and|             Cigna|50119.222791548505|        316|      Elective|    2020-07-14|    Aspirin|    Abnormal|\n|   ChRISTopher BerG| 58|Female|       AB-|           Cancer|       2021-05-23|     Heather Day|      Padilla-Walker|  UnitedHealthcare| 19784.63106221073|        249|      Elective|    2021-06-22|Paracetamol|Inconclusive|\n|   mIchElLe daniELs| 72|  Male|        O+|           Cancer|       2020-04-19|     John Duncan|     Schaefer-Porter|          Medicare|12576.795609050234|        394|        Urgent|    2020-04-22|Paracetamol|      Normal|\n|     aaRon MARtiNeZ| 38|Female|        A-|     Hypertension|       2023-08-13|    Douglas Mayo|         Lyons-Blair|          Medicare| 7999.586879604188|        288|        Urgent|    2023-09-05|    Lipitor|Inconclusive|\n|      connOR HANsEn| 75|Female|        A+|         Diabetes|       2019-12-12|Kenneth Fletcher|Powers Miller, an...|             Cigna| 43282.28335770435|        134|     Emergency|    2019-12-28| Penicillin|    Abnormal|\n|       rObeRt bAuer| 68|Female|       AB+|           Asthma|       2020-05-22| Theresa Freeman|    Rivera-Gutierrez|  UnitedHealthcare|33207.706633729606|        309|        Urgent|    2020-06-19|    Lipitor|      Normal|\n|       bROOkE brady| 44|Female|       AB+|           Cancer|       2021-10-08| Roberta Stewart|     Morris-Arellano|  UnitedHealthcare|40701.599227308754|        182|        Urgent|    2021-10-13|Paracetamol|      Normal|\n| MS. nAtalIE gAMble| 46|Female|       AB-|          Obesity|       2023-01-01| Maria Dougherty|      Cline-Williams|        Blue Cross|12263.357425021362|        465|      Elective|    2023-01-11|    Aspirin|Inconclusive|\n|      haley perkins| 63|Female|        A+|        Arthritis|       2020-06-23|   Erica Spencer|     Cervantes-Wells|  UnitedHealthcare|24499.847903736576|        114|      Elective|    2020-07-14|Paracetamol|      Normal|\n|mRS. jamiE cAMPBELl| 38|  Male|       AB-|          Obesity|       2020-03-08|      Justin Kim|Torres, and Harri...|             Cigna|17440.465444124675|        449|        Urgent|    2020-04-02|Paracetamol|    Abnormal|\n|       LuKE BuRgEss| 34|Female|        A-|     Hypertension|       2021-03-04|Justin Moore Jr.|         Houston PLC|        Blue Cross| 18843.02301783416|        260|      Elective|    2021-03-14|    Aspirin|    Abnormal|\n|     dANIEL schmIdt| 63|  Male|        B+|           Asthma|       2022-11-15| Denise Galloway|         Hammond Ltd|             Cigna|23762.203579059587|        465|      Elective|    2022-11-22| Penicillin|      Normal|\n+-------------------+---+------+----------+-----------------+-----------------+----------------+--------------------+------------------+------------------+-----------+--------------+--------------+-----------+------------+\nonly showing top 20 rows\n\n"
     ]
    },
    {
     "output_type": "execute_result",
     "data": {
      "text/plain": [
       "55500"
      ]
     },
     "execution_count": 27,
     "metadata": {},
     "output_type": "execute_result"
    }
   ],
   "source": [
    "from pyspark.sql import SparkSession\n",
    "from datetime import datetime\n",
    "\n",
    "spark = SparkSession.builder.appName(\"ReadData\").getOrCreate()\n",
    "storage_account_name = \"storage1998de\"\n",
    "src_container = \"cleaned\"\n",
    "file_path = \"/cleaned/part-*\"\n",
    "target_container = \"transformed\"\n",
    "\n",
    "adls_url = f\"abfss://{src_container}@{storage_account_name}.dfs.core.windows.net/{file_path}\"\n",
    "\n",
    "temp_df = spark.read.csv(adls_url, sep=',', header=True,inferSchema=True)\n",
    "\n",
    "temp_df.show()\n",
    "temp_df.count()\n"
   ]
  },
  {
   "cell_type": "code",
   "execution_count": 0,
   "metadata": {
    "application/vnd.databricks.v1+cell": {
     "cellMetadata": {
      "byteLimit": 2048000,
      "rowLimit": 10000
     },
     "inputWidgets": {},
     "nuid": "e92939da-1b4c-4a38-bdca-8720d851da43",
     "showTitle": false,
     "title": ""
    }
   },
   "outputs": [
    {
     "output_type": "stream",
     "name": "stdout",
     "output_type": "stream",
     "text": [
      "+------------------+---+------+----------+-----------------+-----------------+--------------------+--------------------+------------------+------------------+-----------+--------------+--------------+-----------+------------+---+\n|              Name|Age|Gender|Blood Type|Medical Condition|Date of Admission|              Doctor|            Hospital|Insurance Provider|    Billing Amount|Room Number|Admission Type|Discharge Date| Medication|Test Results| ID|\n+------------------+---+------+----------+-----------------+-----------------+--------------------+--------------------+------------------+------------------+-----------+--------------+--------------+-----------+------------+---+\n|      AARON DuncAn| 22|  Male|       AB-|          Obesity|       2019-07-24|          Ryan Perry|          Welch-Yang|  UnitedHealthcare| 39906.14730805009|        279|        Urgent|    2019-08-04|Paracetamol|    Abnormal|  1|\n|       AARON HicKS| 76|Female|        A+|        Arthritis|       2022-03-02|      Michael Butler|Rasmussen Patrick...|             Cigna|10584.185945449815|        187|      Elective|    2022-03-15|    Lipitor|Inconclusive|  2|\n| AARON bAldWIN Jr.| 20|  Male|        O-|     Hypertension|       2020-10-10|          Amy Farley|Flores Friedman a...|          Medicare| 29740.96019872634|        104|        Urgent|    2020-11-05|Paracetamol|    Abnormal|  3|\n|     AARON hAWkIns| 69|Female|        B-|         Diabetes|       2019-10-17|       Kimberly York|Harris, Hernandez...|             Aetna|21535.554758458737|        206|        Urgent|    2019-10-26| Penicillin|    Abnormal|  4|\n|        AAROn HaRt| 18|  Male|        B-|           Cancer|       2021-01-13|     Sharon Morrison|Fox Guzman James,...|             Aetna|13895.551019554296|        260|     Emergency|    2021-01-20|Paracetamol|    Abnormal|  5|\n|      AAROn wiLsON| 49|Female|        O+|          Obesity|       2020-01-19|        Victor Dixon|       Mercado-Brown|        Blue Cross|18181.533836900748|        416|     Emergency|    2020-02-10|    Aspirin|Inconclusive|  6|\n|      AARoN FOSTer| 65|  Male|       AB+|           Asthma|       2021-09-18|  Margaret Hernandez|Brown Hunt Lowe, and|  UnitedHealthcare|15645.698751945674|        352|        Urgent|    2021-09-27|    Lipitor|      Normal|  7|\n|     AARoN HOPkINs| 26|Female|       AB+|           Asthma|       2021-05-06|      Heather Palmer|and Barton, Patte...|             Cigna| 7418.441635820098|        458|     Emergency|    2021-05-10|Paracetamol|Inconclusive|  8|\n|      AARoN grEEnE| 82|  Male|       AB+|         Diabetes|       2022-04-21|         Tony Harris|            LLC Hall|        Blue Cross| 35841.90393493145|        148|     Emergency|    2022-04-30|    Aspirin|Inconclusive|  9|\n|       AARon OnEal| 69|  Male|        A-|           Asthma|       2019-09-22|      Anthony Atkins|          Inc Taylor|          Medicare|30828.633608381922|        478|     Emergency|    2019-09-26|    Lipitor|    Abnormal| 10|\n|       AARon SmIth| 46|Female|        B-|          Obesity|       2024-04-29|        James Tucker|        Butler Group|             Cigna| 8340.967112663051|        307|      Elective|    2024-05-29|    Aspirin|    Abnormal| 11|\n|     AARon goOdwIn| 59|  Male|        A-|          Obesity|       2021-08-01|  Christopher Morris|         Wood-Riddle|             Cigna|       6679.781434|        488|     Emergency|    2021-08-27|Paracetamol|Inconclusive| 12|\n|        AARon poPe| 41|Female|        B-|        Arthritis|       2019-06-26|     Jennifer Bailey|          Ltd Davila|             Aetna|39206.975129018894|        433|      Elective|    2019-07-22|Paracetamol|Inconclusive| 13|\n|       AARon smITh| 79|  Male|        A-|           Cancer|       2019-11-21|         Gina Jacobs|        Weber-Warren|          Medicare|21879.766347982884|        155|     Emergency|    2019-12-20|  Ibuprofen|Inconclusive| 14|\n|       AARon smITh| 81|  Male|        A-|           Cancer|       2019-11-21|         Gina Jacobs|        Weber-Warren|          Medicare|21879.766347982884|        155|     Emergency|    2019-12-20|  Ibuprofen|Inconclusive| 15|\n|     AArON BeNtlEy| 18|  Male|        O-|           Asthma|       2022-09-22|Elizabeth Mccullough|  Landry-Fitzpatrick|             Cigna| 5411.611013686015|        500|     Emergency|    2022-10-05|    Aspirin|      Normal| 16|\n|     AArON GOoDmAN| 26|Female|       AB-|         Diabetes|       2020-11-11|       Brandon Jones|       Moore-Freeman|        Blue Cross|30631.134720562874|        177|     Emergency|    2020-11-29|  Ibuprofen|Inconclusive| 17|\n|   AArON ROdRIgueZ| 63|Female|        O-|     Hypertension|       2020-09-03|       Kaylee Hunter|     Baxter-Crawford|             Aetna|21605.062106569585|        163|      Elective|    2020-09-04|    Aspirin|Inconclusive| 18|\n|  AArON RiChaRDsON| 20|  Male|       AB+|           Cancer|       2023-10-01|        Jeanne Davis|      Rojas-Thompson|  UnitedHealthcare|23518.838175560173|        357|      Elective|    2023-10-22|  Ibuprofen|Inconclusive| 19|\n|      AArON rOmEro| 53|  Male|       AB-|          Obesity|       2019-08-25|     Sabrina Kennedy|        Watson-Young|          Medicare| 14467.40596463143|        359|        Urgent|    2019-09-10|  Ibuprofen|Inconclusive| 20|\n|  AArON sTrICkLanD| 35|Female|        B-|           Cancer|       2022-02-01|        Oscar Martin|          Keith-Rios|          Medicare|33631.877061316016|        324|     Emergency|    2022-02-13|  Ibuprofen|Inconclusive| 21|\n|    AArOn AnderSoN| 50|Female|        A+|           Asthma|       2020-12-18|    Kenneth Jennings|          Tanner-Cox|             Cigna|       39804.65862|        196|        Urgent|    2021-01-15|    Aspirin|Inconclusive| 22|\n|        AArOn CoOK| 32|Female|        B+|         Diabetes|       2019-07-21|       James Alvarez|         Ltd Johnson|  UnitedHealthcare| 43824.20900810852|        298|      Elective|    2019-08-20|  Ibuprofen|Inconclusive| 23|\n|       AArOn DaVIs| 72|Female|       AB+|           Cancer|       2020-10-21|  Christopher Martin|and Atkins Mcinto...|        Blue Cross|3735.7140878104856|        281|      Elective|    2020-10-29|Paracetamol|Inconclusive| 24|\n|     AArOn STAnLey| 34|Female|        O-|        Arthritis|       2020-06-03|       Cindy Collins|Brooks, Allen Ros...|             Aetna| 48319.78098898607|        359|        Urgent|    2020-06-11|Paracetamol|      Normal| 25|\n|        AArOn huFf| 50|  Male|        O+|           Cancer|       2019-07-09|          Lance Good|         Hardy-Jones|  UnitedHealthcare|10764.768665392341|        305|        Urgent|    2019-07-22|    Aspirin|    Abnormal| 26|\n|        AArOn meZa| 67|Female|        O+|     Hypertension|       2020-03-11|        Kayla Ritter|Campbell and John...|             Aetna| 29139.56960905743|        358|      Elective|    2020-04-02|    Aspirin|Inconclusive| 27|\n|      AAroN MArtiN| 55|  Male|        O+|          Obesity|       2021-06-30|         Wendy Smith|           PLC Evans|        Blue Cross|11123.276630866867|        219|     Emergency|    2021-07-27|    Aspirin|    Abnormal| 28|\n|     AAroN SwEENEY| 51|  Male|        A+|         Diabetes|       2024-03-05|        Leslie Gomez|and Lee Walter, A...|        Blue Cross|29538.891381239908|        440|     Emergency|    2024-03-27|  Ibuprofen|      Normal| 29|\n|       AAroN bAker| 73|  Male|        B+|           Cancer|       2019-06-18|        Tracy Torres|Wise and Todd, Pa...|          Medicare|10135.885442122959|        234|      Elective|    2019-07-10|    Aspirin|Inconclusive| 30|\n|      AAron ArCHER| 49|Female|        B-|           Cancer|       2021-01-10|  Cynthia Villanueva|Montes Case and M...|          Medicare|10602.077185418817|        108|        Urgent|    2021-01-17|Paracetamol|Inconclusive| 31|\n|      AAron ArCHER| 47|Female|        B-|           Cancer|       2021-01-10|  Cynthia Villanueva|Montes Case and M...|          Medicare|10602.077185418817|        108|        Urgent|    2021-01-17|Paracetamol|Inconclusive| 32|\n|     AAron DicKSoN| 46|  Male|       AB+|         Diabetes|       2021-05-14|       Tammy Simpson|    Anderson-Harrell|  UnitedHealthcare|7018.9313223576555|        216|        Urgent|    2021-05-20| Penicillin|    Abnormal| 33|\n|      AAron FisHER| 72|Female|        A-|           Cancer|       2020-12-16|         Leroy Evans|          Clark-Bray|          Medicare| 25212.65552781594|        121|     Emergency|    2020-12-27|Paracetamol|Inconclusive| 34|\n|       AAron LoPez| 82|  Male|       AB+|        Arthritis|       2022-04-08|      Jeffrey Wilson|      James and Sons|        Blue Cross| 27027.46468188712|        436|        Urgent|    2022-04-27|    Lipitor|Inconclusive| 35|\n|        AAron RoWE| 61|Female|        B-|           Cancer|       2020-07-12|        Nicole Price|        Walker Group|             Aetna|28559.939905699724|        173|      Elective|    2020-08-03|    Aspirin|      Normal| 36|\n|       AAron SMItH| 25|  Male|        B-|           Asthma|       2022-10-01|         Greg Dillon|Hall Reed and Kai...|          Medicare| 48796.76076987105|        435|     Emergency|    2022-10-03|    Aspirin|      Normal| 37|\n|     AAron WIlkinS| 40|Female|       AB-|         Diabetes|       2020-12-23|     Johnathan White|and Massey, Shaff...|             Aetna|12717.383089374156|        298|      Elective|    2021-01-20|    Aspirin|Inconclusive| 38|\n|      AAron fuller| 22|Female|        B-|          Obesity|       2019-10-04|         Brenda King|       Paul-Anderson|        Blue Cross|       48456.87989|        333|      Elective|    2019-10-28|Paracetamol|      Normal| 39|\n|        AAron reEd| 44|  Male|        B-|           Asthma|       2023-10-06|       Manuel Lucero|        Glover-Mcgee|             Cigna| 6125.877219789165|        429|     Emergency|    2023-11-03|    Lipitor|      Normal| 40|\n|    ABIGAIL pARKeR| 23|  Male|        A+|           Asthma|       2021-06-08|       Ashley Fields|Smith and Clark B...|        Blue Cross|12809.087576442256|        443|      Elective|    2021-06-19|    Lipitor|    Abnormal| 41|\n|    ABIGAIl AusTIn| 41|  Male|       AB+|         Diabetes|       2023-12-02|          James Hill|            LLC Pena|  UnitedHealthcare|11687.777177180833|        402|      Elective|    2023-12-29|    Lipitor|    Abnormal| 42|\n|   ABIGAIl bEltrAn| 69|  Male|       AB+|        Arthritis|       2019-10-27|       Robert Taylor|        Bowman-Owens|        Blue Cross|45106.024517475904|        402|     Emergency|    2019-10-30| Penicillin|      Normal| 43|\n|    ABIGAiL wateRS| 34|Female|        O+|           Asthma|       2023-11-13|        Sandra Boyer|Rogers Martin Pri...|  UnitedHealthcare|3121.1961382341997|        421|      Elective|    2023-11-22|    Aspirin|Inconclusive| 44|\n|    ABIGAiL wateRS| 35|Female|        O+|           Asthma|       2023-11-13|        Sandra Boyer|Rogers Martin Pri...|  UnitedHealthcare|3121.1961382341997|        421|      Elective|    2023-11-22|    Aspirin|Inconclusive| 45|\n|  ABIGaIl caldWELL| 60|Female|       AB+|     Hypertension|       2022-09-18|      Ralph Peterson|      Mcclure-Bowman|          Medicare|47550.384066497405|        226|      Elective|    2022-10-01|    Aspirin|      Normal| 46|\n|      ABIGaiL LONG| 43|  Male|        O+|     Hypertension|       2023-06-24|          Emily Hall|      Richardson LLC|        Blue Cross| 33087.80317601187|        379|        Urgent|    2023-07-01|Paracetamol|      Normal| 47|\n|    ABIgAIL tucKeR| 68|  Male|        B+|           Cancer|       2020-08-10|   Christopher Avery|      Perry and Sons|        Blue Cross|1773.4557157416407|        480|      Elective|    2020-08-26|Paracetamol|      Normal| 48|\n|    ABIgAIL tucKeR| 66|  Male|        B+|           Cancer|       2020-08-10|   Christopher Avery|      Perry and Sons|        Blue Cross|1773.4557157416407|        480|      Elective|    2020-08-26|Paracetamol|      Normal| 49|\n|    ABIgAil martIN| 22|  Male|        O+|           Cancer|       2022-03-31|    Kristine Stevens|and Flynn Gardner...|          Medicare|8038.4875103942695|        430|      Elective|    2022-04-05|    Lipitor|      Normal| 50|\n|     ABIgaIL YOung| 41|Female|        O+|     Hypertension|       2022-12-15|       Edward Kramer|      Moore-Mcdaniel|  UnitedHealthcare|1983.5682967188222|        192|      Elective|    2023-01-13|  Ibuprofen|      Normal| 51|\n|     ABIgaIL YOung| 41|Female|        O+|     Hypertension|       2022-12-15|       Edward Kramer|      Moore-Mcdaniel|  UnitedHealthcare|1983.5682967188222|        192|      Elective|    2023-01-13|  Ibuprofen|      Normal| 52|\n|    ABIgaIl PETERS| 39|Female|       AB-|         Diabetes|       2023-02-19|          Julie Cook|        Sanchez-Buck|        Blue Cross|41514.346047209096|        435|     Emergency|    2023-02-20|    Aspirin|Inconclusive| 53|\n|   ABIgail aCEveDO| 55|Female|        O+|     Hypertension|       2022-06-16|      Nicholas Moore|Walls Phillips, S...|          Medicare|13236.189146536026|        257|     Emergency|    2022-07-11|  Ibuprofen|    Abnormal| 54|\n|    ABiGAiL VaLdez| 30|Female|        B+|          Obesity|       2020-08-12|      Colton Russell|   and Anderson Sons|             Aetna|4082.5444374373114|        203|     Emergency|    2020-08-25|Paracetamol|Inconclusive| 55|\n|  ABiGaIl ANDersoN| 59|Female|        O-|           Asthma|       2020-04-19|         Andrew Rich|           PLC Huang|             Cigna| 39305.13254832649|        375|     Emergency|    2020-04-28|Paracetamol|      Normal| 56|\n|    ABiGaIl BarKER| 69|  Male|        A-|           Asthma|       2022-08-11|    Andrew Rodriguez|Jordan Clark Lebl...|  UnitedHealthcare|       49148.98162|        222|     Emergency|    2022-08-19|    Aspirin|      Normal| 57|\n|    ABiGaiL thOmAS| 48|  Male|       AB-|         Diabetes|       2021-01-03|    Elizabeth Taylor|          Guzman Inc|             Cigna| 7946.475796818547|        275|     Emergency|    2021-01-14|    Aspirin|      Normal| 58|\n|     ABigAIL SMiTH| 64|Female|       AB+|     Hypertension|       2021-01-03|        David Thomas|Dorsey Patton Pow...|          Medicare|23518.987065816964|        261|        Urgent|    2021-01-24| Penicillin|      Normal| 59|\n|ABigAiL MONTGOmerY| 25|Female|        A+|         Diabetes|       2020-08-29|Miss Carmen Carte...|        Gibbs-Bowman|          Medicare|46924.255447853684|        166|     Emergency|    2020-09-13|Paracetamol|    Abnormal| 60|\n|    ABigaIL rOgErS| 22|  Male|        A-|           Asthma|       2023-08-01|         Jill Harvey|     Mcknight-Jordan|             Aetna|48745.739918711406|        300|        Urgent|    2023-08-27| Penicillin|    Abnormal| 61|\n|      ABigaIl ChAN| 49|  Male|        O-|           Cancer|       2023-09-21|        Victoria Lee|       Group Herrera|             Aetna|42208.956899177174|        292|     Emergency|    2023-09-29| Penicillin|    Abnormal| 62|\n|       ADAM BEcKER| 63|Female|        A+|           Asthma|       2021-05-13|         Mary Morgan|          Vargas PLC|             Aetna|26012.979792023994|        481|        Urgent|    2021-05-27|    Lipitor|Inconclusive| 63|\n|          ADAM DAY| 31|  Male|        B-|        Arthritis|       2023-10-28|       Brooke Romero|and Miller Clark ...|             Aetna|31023.791017772608|        287|      Elective|    2023-11-14| Penicillin|Inconclusive| 64|\n|          ADAM OrR| 36|Female|        A-|        Arthritis|       2020-03-16|        Aaron Miller|         Berg-Cooper|  UnitedHealthcare|10343.271620293011|        275|     Emergency|    2020-04-04|  Ibuprofen|Inconclusive| 65|\n|          ADAM OrR| 26|  Male|       AB-|        Arthritis|       2020-06-07|     Ronald Sandoval|    Herrera-Castillo|             Aetna|16348.454787256305|        391|        Urgent|    2020-06-09|    Lipitor|Inconclusive| 66|\n|        ADAM Patel| 19|Female|        B-|           Asthma|       2024-04-01|       Eric Thompson|    and Beltran Sons|             Cigna| 19358.56978786035|        285|      Elective|    2024-04-19|Paracetamol|      Normal| 67|\n|        ADAM PeREZ| 63|  Male|        B-|        Arthritis|       2020-08-13|        Karen Miller|      Johnston-White|        Blue Cross| 33648.71640985969|        208|        Urgent|    2020-09-07| Penicillin|Inconclusive| 68|\n|        ADAM bRown| 37|Female|        B-|          Obesity|       2021-09-05|    Nicole Powell MD|Perez Garcia, and...|  UnitedHealthcare|13055.270190494899|        193|        Urgent|    2021-10-05|    Aspirin|      Normal| 69|\n|       ADAM gARCia| 58|  Male|       AB+|     Hypertension|       2023-05-21|            Amy Pope|     and Mendez Sons|          Medicare|2229.3053500515157|        421|     Emergency|    2023-06-13| Penicillin|    Abnormal| 70|\n|       ADAM hUNTER| 85|  Male|       AB-|     Hypertension|       2022-03-02|     Amanda Thompson|           LLC Chang|  UnitedHealthcare| 37567.91002333456|        431|     Emergency|    2022-03-07|    Lipitor|Inconclusive| 71|\n|         ADAm BEAn| 72|Female|        B+|     Hypertension|       2021-11-20|        Peter Medina|         Choi-Harris|  UnitedHealthcare|28349.444844680365|        214|        Urgent|    2021-12-05| Penicillin|      Normal| 72|\n|      ADAm BenNetT| 66|  Male|        O-|           Asthma|       2022-01-29|     Deborah Vasquez|         Smith-Smith|          Medicare| 12868.50280519435|        104|      Elective|    2022-02-12|Paracetamol|    Abnormal| 73|\n|        ADAm CaRey| 36|Female|        A+|     Hypertension|       2021-07-16|         Laura Solis|Smith Jones Taylo...|        Blue Cross| 45623.71207347269|        438|     Emergency|    2021-08-08|    Aspirin|    Abnormal| 74|\n|       ADAm VAuGhN| 81|  Male|        B-|     Hypertension|       2020-10-01|          James Ruiz|         PLC Allison|          Medicare|19595.091505262073|        268|        Urgent|    2020-10-22|Paracetamol|    Abnormal| 75|\n|        ADAm aLLeN| 42|Female|        B-|        Arthritis|       2019-09-15|          Megan Mann|and Edwards, Howa...|          Medicare| 44319.16233772749|        456|        Urgent|    2019-09-25|    Lipitor|      Normal| 76|\n|      ADAm cHAPMAn| 55|Female|        A-|        Arthritis|       2022-05-07|          Marc Smith|     Jennings-Larson|        Blue Cross| 9743.022371511468|        313|        Urgent|    2022-06-01|    Lipitor|    Abnormal| 77|\n|     ADAm fleTCHEr| 73|  Male|        B-|        Arthritis|       2021-04-17|       Michael Brown|     Williamson-Dean|             Aetna| 43350.20720107809|        373|      Elective|    2021-05-10|  Ibuprofen|    Abnormal| 78|\n|     ADAm fleTCHEr| 75|  Male|        B-|        Arthritis|       2021-04-17|       Michael Brown|     Williamson-Dean|             Aetna| 43350.20720107809|        373|      Elective|    2021-05-10|  Ibuprofen|    Abnormal| 79|\n|       ADAm hANSEN| 65|Female|        B-|           Cancer|       2019-10-25|       Carlos Joseph|        Group Santos|  UnitedHealthcare| 3879.524293533873|        193|     Emergency|    2019-10-27|Paracetamol|      Normal| 80|\n+------------------+---+------+----------+-----------------+-----------------+--------------------+--------------------+------------------+------------------+-----------+--------------+--------------+-----------+------------+---+\nonly showing top 80 rows\n\n"
     ]
    }
   ],
   "source": [
    "transform_df = \"\"\"SELECT * , row_number() over (order by Name) as ID FROM healthdataset\"\"\"\n",
    "temp_df = spark.sql(transform_df)\n",
    "temp_df.show(80)"
   ]
  },
  {
   "cell_type": "code",
   "execution_count": 0,
   "metadata": {
    "application/vnd.databricks.v1+cell": {
     "cellMetadata": {
      "byteLimit": 2048000,
      "rowLimit": 10000
     },
     "inputWidgets": {},
     "nuid": "be1011df-7d16-49b7-96b7-30904dddf54c",
     "showTitle": false,
     "title": ""
    }
   },
   "outputs": [
    {
     "output_type": "stream",
     "name": "stdout",
     "output_type": "stream",
     "text": [
      "+------------------+---+------+----------+-----------------+-----------------+--------------------+--------------------+------------------+------------------+-----------+--------------+--------------+-----------+------------+---+\n|              Name|Age|Gender|Blood Type|Medical Condition|Date of Admission|              Doctor|            Hospital|Insurance Provider|    Billing Amount|Room Number|Admission Type|Discharge Date| Medication|Test Results| ID|\n+------------------+---+------+----------+-----------------+-----------------+--------------------+--------------------+------------------+------------------+-----------+--------------+--------------+-----------+------------+---+\n|      Aaron Duncan| 22|  Male|       AB-|          Obesity|       2019-07-24|          Ryan Perry|          Welch-Yang|  UnitedHealthcare| 39906.14730805009|        279|        Urgent|    2019-08-04|Paracetamol|    Abnormal|  1|\n|       Aaron Hicks| 76|Female|        A+|        Arthritis|       2022-03-02|      Michael Butler|Rasmussen Patrick...|             Cigna|10584.185945449815|        187|      Elective|    2022-03-15|    Lipitor|Inconclusive|  2|\n| Aaron Baldwin Jr.| 20|  Male|        O-|     Hypertension|       2020-10-10|          Amy Farley|Flores Friedman a...|          Medicare| 29740.96019872634|        104|        Urgent|    2020-11-05|Paracetamol|    Abnormal|  3|\n|     Aaron Hawkins| 69|Female|        B-|         Diabetes|       2019-10-17|       Kimberly York|Harris, Hernandez...|             Aetna|21535.554758458737|        206|        Urgent|    2019-10-26| Penicillin|    Abnormal|  4|\n|        Aaron Hart| 18|  Male|        B-|           Cancer|       2021-01-13|     Sharon Morrison|Fox Guzman James,...|             Aetna|13895.551019554296|        260|     Emergency|    2021-01-20|Paracetamol|    Abnormal|  5|\n|      Aaron Wilson| 49|Female|        O+|          Obesity|       2020-01-19|        Victor Dixon|       Mercado-Brown|        Blue Cross|18181.533836900748|        416|     Emergency|    2020-02-10|    Aspirin|Inconclusive|  6|\n|      Aaron Foster| 65|  Male|       AB+|           Asthma|       2021-09-18|  Margaret Hernandez|Brown Hunt Lowe, and|  UnitedHealthcare|15645.698751945674|        352|        Urgent|    2021-09-27|    Lipitor|      Normal|  7|\n|     Aaron Hopkins| 26|Female|       AB+|           Asthma|       2021-05-06|      Heather Palmer|and Barton, Patte...|             Cigna| 7418.441635820098|        458|     Emergency|    2021-05-10|Paracetamol|Inconclusive|  8|\n|      Aaron Greene| 82|  Male|       AB+|         Diabetes|       2022-04-21|         Tony Harris|            LLC Hall|        Blue Cross| 35841.90393493145|        148|     Emergency|    2022-04-30|    Aspirin|Inconclusive|  9|\n|       Aaron Oneal| 69|  Male|        A-|           Asthma|       2019-09-22|      Anthony Atkins|          Inc Taylor|          Medicare|30828.633608381922|        478|     Emergency|    2019-09-26|    Lipitor|    Abnormal| 10|\n|       Aaron Smith| 46|Female|        B-|          Obesity|       2024-04-29|        James Tucker|        Butler Group|             Cigna| 8340.967112663051|        307|      Elective|    2024-05-29|    Aspirin|    Abnormal| 11|\n|     Aaron Goodwin| 59|  Male|        A-|          Obesity|       2021-08-01|  Christopher Morris|         Wood-Riddle|             Cigna|       6679.781434|        488|     Emergency|    2021-08-27|Paracetamol|Inconclusive| 12|\n|        Aaron Pope| 41|Female|        B-|        Arthritis|       2019-06-26|     Jennifer Bailey|          Ltd Davila|             Aetna|39206.975129018894|        433|      Elective|    2019-07-22|Paracetamol|Inconclusive| 13|\n|       Aaron Smith| 79|  Male|        A-|           Cancer|       2019-11-21|         Gina Jacobs|        Weber-Warren|          Medicare|21879.766347982884|        155|     Emergency|    2019-12-20|  Ibuprofen|Inconclusive| 14|\n|       Aaron Smith| 81|  Male|        A-|           Cancer|       2019-11-21|         Gina Jacobs|        Weber-Warren|          Medicare|21879.766347982884|        155|     Emergency|    2019-12-20|  Ibuprofen|Inconclusive| 15|\n|     Aaron Bentley| 18|  Male|        O-|           Asthma|       2022-09-22|Elizabeth Mccullough|  Landry-Fitzpatrick|             Cigna| 5411.611013686015|        500|     Emergency|    2022-10-05|    Aspirin|      Normal| 16|\n|     Aaron Goodman| 26|Female|       AB-|         Diabetes|       2020-11-11|       Brandon Jones|       Moore-Freeman|        Blue Cross|30631.134720562874|        177|     Emergency|    2020-11-29|  Ibuprofen|Inconclusive| 17|\n|   Aaron Rodriguez| 63|Female|        O-|     Hypertension|       2020-09-03|       Kaylee Hunter|     Baxter-Crawford|             Aetna|21605.062106569585|        163|      Elective|    2020-09-04|    Aspirin|Inconclusive| 18|\n|  Aaron Richardson| 20|  Male|       AB+|           Cancer|       2023-10-01|        Jeanne Davis|      Rojas-Thompson|  UnitedHealthcare|23518.838175560173|        357|      Elective|    2023-10-22|  Ibuprofen|Inconclusive| 19|\n|      Aaron Romero| 53|  Male|       AB-|          Obesity|       2019-08-25|     Sabrina Kennedy|        Watson-Young|          Medicare| 14467.40596463143|        359|        Urgent|    2019-09-10|  Ibuprofen|Inconclusive| 20|\n|  Aaron Strickland| 35|Female|        B-|           Cancer|       2022-02-01|        Oscar Martin|          Keith-Rios|          Medicare|33631.877061316016|        324|     Emergency|    2022-02-13|  Ibuprofen|Inconclusive| 21|\n|    Aaron Anderson| 50|Female|        A+|           Asthma|       2020-12-18|    Kenneth Jennings|          Tanner-Cox|             Cigna|       39804.65862|        196|        Urgent|    2021-01-15|    Aspirin|Inconclusive| 22|\n|        Aaron Cook| 32|Female|        B+|         Diabetes|       2019-07-21|       James Alvarez|         Ltd Johnson|  UnitedHealthcare| 43824.20900810852|        298|      Elective|    2019-08-20|  Ibuprofen|Inconclusive| 23|\n|       Aaron Davis| 72|Female|       AB+|           Cancer|       2020-10-21|  Christopher Martin|and Atkins Mcinto...|        Blue Cross|3735.7140878104856|        281|      Elective|    2020-10-29|Paracetamol|Inconclusive| 24|\n|     Aaron Stanley| 34|Female|        O-|        Arthritis|       2020-06-03|       Cindy Collins|Brooks, Allen Ros...|             Aetna| 48319.78098898607|        359|        Urgent|    2020-06-11|Paracetamol|      Normal| 25|\n|        Aaron Huff| 50|  Male|        O+|           Cancer|       2019-07-09|          Lance Good|         Hardy-Jones|  UnitedHealthcare|10764.768665392341|        305|        Urgent|    2019-07-22|    Aspirin|    Abnormal| 26|\n|        Aaron Meza| 67|Female|        O+|     Hypertension|       2020-03-11|        Kayla Ritter|Campbell and John...|             Aetna| 29139.56960905743|        358|      Elective|    2020-04-02|    Aspirin|Inconclusive| 27|\n|      Aaron Martin| 55|  Male|        O+|          Obesity|       2021-06-30|         Wendy Smith|           PLC Evans|        Blue Cross|11123.276630866867|        219|     Emergency|    2021-07-27|    Aspirin|    Abnormal| 28|\n|     Aaron Sweeney| 51|  Male|        A+|         Diabetes|       2024-03-05|        Leslie Gomez|and Lee Walter, A...|        Blue Cross|29538.891381239908|        440|     Emergency|    2024-03-27|  Ibuprofen|      Normal| 29|\n|       Aaron Baker| 73|  Male|        B+|           Cancer|       2019-06-18|        Tracy Torres|Wise and Todd, Pa...|          Medicare|10135.885442122959|        234|      Elective|    2019-07-10|    Aspirin|Inconclusive| 30|\n|      Aaron Archer| 49|Female|        B-|           Cancer|       2021-01-10|  Cynthia Villanueva|Montes Case and M...|          Medicare|10602.077185418817|        108|        Urgent|    2021-01-17|Paracetamol|Inconclusive| 31|\n|      Aaron Archer| 47|Female|        B-|           Cancer|       2021-01-10|  Cynthia Villanueva|Montes Case and M...|          Medicare|10602.077185418817|        108|        Urgent|    2021-01-17|Paracetamol|Inconclusive| 32|\n|     Aaron Dickson| 46|  Male|       AB+|         Diabetes|       2021-05-14|       Tammy Simpson|    Anderson-Harrell|  UnitedHealthcare|7018.9313223576555|        216|        Urgent|    2021-05-20| Penicillin|    Abnormal| 33|\n|      Aaron Fisher| 72|Female|        A-|           Cancer|       2020-12-16|         Leroy Evans|          Clark-Bray|          Medicare| 25212.65552781594|        121|     Emergency|    2020-12-27|Paracetamol|Inconclusive| 34|\n|       Aaron Lopez| 82|  Male|       AB+|        Arthritis|       2022-04-08|      Jeffrey Wilson|      James and Sons|        Blue Cross| 27027.46468188712|        436|        Urgent|    2022-04-27|    Lipitor|Inconclusive| 35|\n|        Aaron Rowe| 61|Female|        B-|           Cancer|       2020-07-12|        Nicole Price|        Walker Group|             Aetna|28559.939905699724|        173|      Elective|    2020-08-03|    Aspirin|      Normal| 36|\n|       Aaron Smith| 25|  Male|        B-|           Asthma|       2022-10-01|         Greg Dillon|Hall Reed and Kai...|          Medicare| 48796.76076987105|        435|     Emergency|    2022-10-03|    Aspirin|      Normal| 37|\n|     Aaron Wilkins| 40|Female|       AB-|         Diabetes|       2020-12-23|     Johnathan White|and Massey, Shaff...|             Aetna|12717.383089374156|        298|      Elective|    2021-01-20|    Aspirin|Inconclusive| 38|\n|      Aaron Fuller| 22|Female|        B-|          Obesity|       2019-10-04|         Brenda King|       Paul-Anderson|        Blue Cross|       48456.87989|        333|      Elective|    2019-10-28|Paracetamol|      Normal| 39|\n|        Aaron Reed| 44|  Male|        B-|           Asthma|       2023-10-06|       Manuel Lucero|        Glover-Mcgee|             Cigna| 6125.877219789165|        429|     Emergency|    2023-11-03|    Lipitor|      Normal| 40|\n|    Abigail Parker| 23|  Male|        A+|           Asthma|       2021-06-08|       Ashley Fields|Smith and Clark B...|        Blue Cross|12809.087576442256|        443|      Elective|    2021-06-19|    Lipitor|    Abnormal| 41|\n|    Abigail Austin| 41|  Male|       AB+|         Diabetes|       2023-12-02|          James Hill|            LLC Pena|  UnitedHealthcare|11687.777177180833|        402|      Elective|    2023-12-29|    Lipitor|    Abnormal| 42|\n|   Abigail Beltran| 69|  Male|       AB+|        Arthritis|       2019-10-27|       Robert Taylor|        Bowman-Owens|        Blue Cross|45106.024517475904|        402|     Emergency|    2019-10-30| Penicillin|      Normal| 43|\n|    Abigail Waters| 34|Female|        O+|           Asthma|       2023-11-13|        Sandra Boyer|Rogers Martin Pri...|  UnitedHealthcare|3121.1961382341997|        421|      Elective|    2023-11-22|    Aspirin|Inconclusive| 44|\n|    Abigail Waters| 35|Female|        O+|           Asthma|       2023-11-13|        Sandra Boyer|Rogers Martin Pri...|  UnitedHealthcare|3121.1961382341997|        421|      Elective|    2023-11-22|    Aspirin|Inconclusive| 45|\n|  Abigail Caldwell| 60|Female|       AB+|     Hypertension|       2022-09-18|      Ralph Peterson|      Mcclure-Bowman|          Medicare|47550.384066497405|        226|      Elective|    2022-10-01|    Aspirin|      Normal| 46|\n|      Abigail Long| 43|  Male|        O+|     Hypertension|       2023-06-24|          Emily Hall|      Richardson LLC|        Blue Cross| 33087.80317601187|        379|        Urgent|    2023-07-01|Paracetamol|      Normal| 47|\n|    Abigail Tucker| 68|  Male|        B+|           Cancer|       2020-08-10|   Christopher Avery|      Perry and Sons|        Blue Cross|1773.4557157416407|        480|      Elective|    2020-08-26|Paracetamol|      Normal| 48|\n|    Abigail Tucker| 66|  Male|        B+|           Cancer|       2020-08-10|   Christopher Avery|      Perry and Sons|        Blue Cross|1773.4557157416407|        480|      Elective|    2020-08-26|Paracetamol|      Normal| 49|\n|    Abigail Martin| 22|  Male|        O+|           Cancer|       2022-03-31|    Kristine Stevens|and Flynn Gardner...|          Medicare|8038.4875103942695|        430|      Elective|    2022-04-05|    Lipitor|      Normal| 50|\n|     Abigail Young| 41|Female|        O+|     Hypertension|       2022-12-15|       Edward Kramer|      Moore-Mcdaniel|  UnitedHealthcare|1983.5682967188222|        192|      Elective|    2023-01-13|  Ibuprofen|      Normal| 51|\n|     Abigail Young| 41|Female|        O+|     Hypertension|       2022-12-15|       Edward Kramer|      Moore-Mcdaniel|  UnitedHealthcare|1983.5682967188222|        192|      Elective|    2023-01-13|  Ibuprofen|      Normal| 52|\n|    Abigail Peters| 39|Female|       AB-|         Diabetes|       2023-02-19|          Julie Cook|        Sanchez-Buck|        Blue Cross|41514.346047209096|        435|     Emergency|    2023-02-20|    Aspirin|Inconclusive| 53|\n|   Abigail Acevedo| 55|Female|        O+|     Hypertension|       2022-06-16|      Nicholas Moore|Walls Phillips, S...|          Medicare|13236.189146536026|        257|     Emergency|    2022-07-11|  Ibuprofen|    Abnormal| 54|\n|    Abigail Valdez| 30|Female|        B+|          Obesity|       2020-08-12|      Colton Russell|   and Anderson Sons|             Aetna|4082.5444374373114|        203|     Emergency|    2020-08-25|Paracetamol|Inconclusive| 55|\n|  Abigail Anderson| 59|Female|        O-|           Asthma|       2020-04-19|         Andrew Rich|           PLC Huang|             Cigna| 39305.13254832649|        375|     Emergency|    2020-04-28|Paracetamol|      Normal| 56|\n|    Abigail Barker| 69|  Male|        A-|           Asthma|       2022-08-11|    Andrew Rodriguez|Jordan Clark Lebl...|  UnitedHealthcare|       49148.98162|        222|     Emergency|    2022-08-19|    Aspirin|      Normal| 57|\n|    Abigail Thomas| 48|  Male|       AB-|         Diabetes|       2021-01-03|    Elizabeth Taylor|          Guzman Inc|             Cigna| 7946.475796818547|        275|     Emergency|    2021-01-14|    Aspirin|      Normal| 58|\n|     Abigail Smith| 64|Female|       AB+|     Hypertension|       2021-01-03|        David Thomas|Dorsey Patton Pow...|          Medicare|23518.987065816964|        261|        Urgent|    2021-01-24| Penicillin|      Normal| 59|\n|Abigail Montgomery| 25|Female|        A+|         Diabetes|       2020-08-29|Miss Carmen Carte...|        Gibbs-Bowman|          Medicare|46924.255447853684|        166|     Emergency|    2020-09-13|Paracetamol|    Abnormal| 60|\n|    Abigail Rogers| 22|  Male|        A-|           Asthma|       2023-08-01|         Jill Harvey|     Mcknight-Jordan|             Aetna|48745.739918711406|        300|        Urgent|    2023-08-27| Penicillin|    Abnormal| 61|\n|      Abigail Chan| 49|  Male|        O-|           Cancer|       2023-09-21|        Victoria Lee|       Group Herrera|             Aetna|42208.956899177174|        292|     Emergency|    2023-09-29| Penicillin|    Abnormal| 62|\n|       Adam Becker| 63|Female|        A+|           Asthma|       2021-05-13|         Mary Morgan|          Vargas PLC|             Aetna|26012.979792023994|        481|        Urgent|    2021-05-27|    Lipitor|Inconclusive| 63|\n|          Adam Day| 31|  Male|        B-|        Arthritis|       2023-10-28|       Brooke Romero|and Miller Clark ...|             Aetna|31023.791017772608|        287|      Elective|    2023-11-14| Penicillin|Inconclusive| 64|\n|          Adam Orr| 36|Female|        A-|        Arthritis|       2020-03-16|        Aaron Miller|         Berg-Cooper|  UnitedHealthcare|10343.271620293011|        275|     Emergency|    2020-04-04|  Ibuprofen|Inconclusive| 65|\n|          Adam Orr| 26|  Male|       AB-|        Arthritis|       2020-06-07|     Ronald Sandoval|    Herrera-Castillo|             Aetna|16348.454787256305|        391|        Urgent|    2020-06-09|    Lipitor|Inconclusive| 66|\n|        Adam Patel| 19|Female|        B-|           Asthma|       2024-04-01|       Eric Thompson|    and Beltran Sons|             Cigna| 19358.56978786035|        285|      Elective|    2024-04-19|Paracetamol|      Normal| 67|\n|        Adam Perez| 63|  Male|        B-|        Arthritis|       2020-08-13|        Karen Miller|      Johnston-White|        Blue Cross| 33648.71640985969|        208|        Urgent|    2020-09-07| Penicillin|Inconclusive| 68|\n|        Adam Brown| 37|Female|        B-|          Obesity|       2021-09-05|    Nicole Powell MD|Perez Garcia, and...|  UnitedHealthcare|13055.270190494899|        193|        Urgent|    2021-10-05|    Aspirin|      Normal| 69|\n|       Adam Garcia| 58|  Male|       AB+|     Hypertension|       2023-05-21|            Amy Pope|     and Mendez Sons|          Medicare|2229.3053500515157|        421|     Emergency|    2023-06-13| Penicillin|    Abnormal| 70|\n|       Adam Hunter| 85|  Male|       AB-|     Hypertension|       2022-03-02|     Amanda Thompson|           LLC Chang|  UnitedHealthcare| 37567.91002333456|        431|     Emergency|    2022-03-07|    Lipitor|Inconclusive| 71|\n|         Adam Bean| 72|Female|        B+|     Hypertension|       2021-11-20|        Peter Medina|         Choi-Harris|  UnitedHealthcare|28349.444844680365|        214|        Urgent|    2021-12-05| Penicillin|      Normal| 72|\n|      Adam Bennett| 66|  Male|        O-|           Asthma|       2022-01-29|     Deborah Vasquez|         Smith-Smith|          Medicare| 12868.50280519435|        104|      Elective|    2022-02-12|Paracetamol|    Abnormal| 73|\n|        Adam Carey| 36|Female|        A+|     Hypertension|       2021-07-16|         Laura Solis|Smith Jones Taylo...|        Blue Cross| 45623.71207347269|        438|     Emergency|    2021-08-08|    Aspirin|    Abnormal| 74|\n|       Adam Vaughn| 81|  Male|        B-|     Hypertension|       2020-10-01|          James Ruiz|         PLC Allison|          Medicare|19595.091505262073|        268|        Urgent|    2020-10-22|Paracetamol|    Abnormal| 75|\n|        Adam Allen| 42|Female|        B-|        Arthritis|       2019-09-15|          Megan Mann|and Edwards, Howa...|          Medicare| 44319.16233772749|        456|        Urgent|    2019-09-25|    Lipitor|      Normal| 76|\n|      Adam Chapman| 55|Female|        A-|        Arthritis|       2022-05-07|          Marc Smith|     Jennings-Larson|        Blue Cross| 9743.022371511468|        313|        Urgent|    2022-06-01|    Lipitor|    Abnormal| 77|\n|     Adam Fletcher| 73|  Male|        B-|        Arthritis|       2021-04-17|       Michael Brown|     Williamson-Dean|             Aetna| 43350.20720107809|        373|      Elective|    2021-05-10|  Ibuprofen|    Abnormal| 78|\n|     Adam Fletcher| 75|  Male|        B-|        Arthritis|       2021-04-17|       Michael Brown|     Williamson-Dean|             Aetna| 43350.20720107809|        373|      Elective|    2021-05-10|  Ibuprofen|    Abnormal| 79|\n|       Adam Hansen| 65|Female|        B-|           Cancer|       2019-10-25|       Carlos Joseph|        Group Santos|  UnitedHealthcare| 3879.524293533873|        193|     Emergency|    2019-10-27|Paracetamol|      Normal| 80|\n+------------------+---+------+----------+-----------------+-----------------+--------------------+--------------------+------------------+------------------+-----------+--------------+--------------+-----------+------------+---+\nonly showing top 80 rows\n\n"
     ]
    }
   ],
   "source": [
    "from pyspark.sql.functions import initcap\n",
    "temp_df = temp_df.withColumn(\"Name\", initcap(df[\"Name\"]))\n",
    "temp_df.show(80)"
   ]
  },
  {
   "cell_type": "code",
   "execution_count": 0,
   "metadata": {
    "application/vnd.databricks.v1+cell": {
     "cellMetadata": {
      "byteLimit": 2048000,
      "rowLimit": 10000
     },
     "inputWidgets": {},
     "nuid": "5ddb96ea-b9cf-4b59-8015-e2f45bdc1aec",
     "showTitle": false,
     "title": ""
    }
   },
   "outputs": [],
   "source": [
    "temp_df.write.mode('overwrite').option('header', True).parquet(f\"abfss://{target_container}@storage1998de.dfs.core.windows.net/transformed\")"
   ]
  }
 ],
 "metadata": {
  "application/vnd.databricks.v1+notebook": {
   "dashboards": [],
   "environmentMetadata": null,
   "language": "python",
   "notebookMetadata": {
    "pythonIndentUnit": 4
   },
   "notebookName": "NCPL project1",
   "widgets": {}
  }
 },
 "nbformat": 4,
 "nbformat_minor": 0
}
